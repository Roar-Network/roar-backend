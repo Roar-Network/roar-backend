{
 "cells": [
  {
   "cell_type": "markdown",
   "metadata": {},
   "source": [
    "FastText es una biblioteca de código abierto, gratuita y ligera que permite a los usuarios aprender representaciones\n",
    "y clasificadores de texto. La clasificación de texto es un problema central para muchas aplicaciones, del mismo modo la detección \n",
    "de spam, el análisis de sentimientos o las respuestas inteligentes son de gran importancia y vienen enlazados a este tema. El objetivo de la clasificación de texto es asignar documentos a una o varias categorías. \n",
    "\n",
    "En nuestro proyecto se quieren clasificar mensajes cortos (de no más de palabras) de una red social, de forma que al usuario de dicha red se le puedan ofrecer publicaciones que se acerquen más a sus preferencias.\n",
    "\n",
    "Para esto se construyó un clasificador que dado un texto, si tiene suficiente información para clasificar el mensaje, este será ubicado para alguna de estas (), en caso contrario se le dará valor -1.\n",
    "\n",
    "Se utilizó un dataset para entrenar el algoritmo y se consiguió un resultado de 0.66.\n",
    "\n"
   ]
  }
 ],
 "metadata": {
  "language_info": {
   "name": "python"
  },
  "orig_nbformat": 4
 },
 "nbformat": 4,
 "nbformat_minor": 2
}
